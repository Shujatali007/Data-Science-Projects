{
  "cells": [
    {
      "cell_type": "code",
      "execution_count": 30,
      "metadata": {
        "id": "vIRDTZga0IBL"
      },
      "outputs": [],
      "source": [
        "import numpy as np\n",
        "from tensorflow.keras.models import Sequential\n",
        "from tensorflow.keras.layers import LSTM\n",
        "from tensorflow.keras.layers import Dense, Dropout\n",
        "import pandas as pd\n",
        "from matplotlib import pyplot as plt\n",
        "from sklearn.preprocessing import StandardScaler\n",
        "import seaborn as sns"
      ]
    },
    {
      "cell_type": "code",
      "execution_count": 31,
      "metadata": {
        "colab": {
          "base_uri": "https://localhost:8080/"
        },
        "id": "PRErW8L6pdOg",
        "outputId": "b4bddc17-d323-42d0-b963-764785d4ecd4"
      },
      "outputs": [
        {
          "name": "stdout",
          "output_type": "stream",
          "text": [
            "         Date       Open       High        Low      Close  Adj Close    Volume\n",
            "0  2017-04-03  57.380001  59.799999  56.916000  59.703999  59.703999  69443000\n",
            "1  2017-04-04  59.377998  60.962002  58.905998  60.740002  60.740002  50673000\n",
            "2  2017-04-05  60.408001  60.976002  58.840000  59.000000  59.000000  39404500\n",
            "3  2017-04-06  59.375999  60.388000  58.820000  59.740002  59.740002  27603000\n",
            "4  2017-04-07  59.500000  60.537998  59.430000  60.507999  60.507999  22898000\n"
          ]
        }
      ],
      "source": [
        "#Read the csv file\n",
        "df = pd.read_csv('/content/drive/MyDrive/Dataset/TSLA .csv')\n",
        "print(df.head()) #7 columns, including the Date. "
      ]
    },
    {
      "cell_type": "code",
      "execution_count": 32,
      "metadata": {
        "colab": {
          "base_uri": "https://localhost:8080/"
        },
        "id": "Dq5b-KYE099W",
        "outputId": "77aa9b2e-5697-45b1-eeff-440ef6dcb395"
      },
      "outputs": [
        {
          "data": {
            "text/plain": [
              "1261"
            ]
          },
          "execution_count": 32,
          "metadata": {},
          "output_type": "execute_result"
        }
      ],
      "source": [
        "len(df)"
      ]
    },
    {
      "cell_type": "code",
      "execution_count": 33,
      "metadata": {
        "colab": {
          "base_uri": "https://localhost:8080/"
        },
        "id": "WN1Gjws1pi1I",
        "outputId": "d528ac74-b17e-4041-9db1-1680fc2ba3ac"
      },
      "outputs": [
        {
          "name": "stdout",
          "output_type": "stream",
          "text": [
            "1246   2022-03-15\n",
            "1247   2022-03-16\n",
            "1248   2022-03-17\n",
            "1249   2022-03-18\n",
            "1250   2022-03-21\n",
            "1251   2022-03-22\n",
            "1252   2022-03-23\n",
            "1253   2022-03-24\n",
            "1254   2022-03-25\n",
            "1255   2022-03-28\n",
            "1256   2022-03-29\n",
            "1257   2022-03-30\n",
            "1258   2022-03-31\n",
            "1259   2022-04-01\n",
            "1260   2022-04-01\n",
            "Name: Date, dtype: datetime64[ns]\n"
          ]
        }
      ],
      "source": [
        "#Separate dates for future plotting\n",
        "train_dates = pd.to_datetime(df['Date'])\n",
        "print(train_dates.tail(15)) #Check last few dates. \n"
      ]
    },
    {
      "cell_type": "code",
      "execution_count": 34,
      "metadata": {
        "colab": {
          "base_uri": "https://localhost:8080/"
        },
        "id": "_eDZXapgpvIT",
        "outputId": "06c79877-c113-45fa-a8b9-7d8f81948514"
      },
      "outputs": [
        {
          "name": "stdout",
          "output_type": "stream",
          "text": [
            "['Open', 'High', 'Low', 'Close', 'Adj Close']\n"
          ]
        }
      ],
      "source": [
        "#Variables for training\n",
        "cols = list(df)[1:6]\n",
        "#Date and volume columns are not used in training. \n",
        "print(cols) #['Open', 'High', 'Low', 'Close', 'Adj Close']"
      ]
    },
    {
      "cell_type": "code",
      "execution_count": 35,
      "metadata": {
        "id": "3f9hv5P-p7-M"
      },
      "outputs": [],
      "source": [
        "#New dataframe with only training data - 5 columns\n",
        "df_for_training = df[cols].astype(float)"
      ]
    },
    {
      "cell_type": "code",
      "execution_count": 36,
      "metadata": {
        "id": "Uju5krB3p-px"
      },
      "outputs": [],
      "source": [
        "#LSTM uses sigmoid and tanh that are sensitive to magnitude so values need to be normalized\n",
        "# normalize the dataset\n",
        "scaler = StandardScaler()\n",
        "scaler = scaler.fit(df_for_training)\n",
        "df_for_training_scaled = scaler.transform(df_for_training)"
      ]
    },
    {
      "cell_type": "code",
      "execution_count": 37,
      "metadata": {
        "colab": {
          "base_uri": "https://localhost:8080/"
        },
        "id": "_Asf6_0FqGpR",
        "outputId": "48562c83-e462-4595-ca4a-478216f17e46"
      },
      "outputs": [
        {
          "name": "stdout",
          "output_type": "stream",
          "text": [
            "trainX shape == (1247, 14, 5).\n",
            "trainY shape == (1247, 1).\n"
          ]
        }
      ],
      "source": [
        "#As required for LSTM networks, we require to reshape an input data into n_samples x timesteps x n_features. \n",
        "#In this example, the n_features is 5. We will make timesteps = 14 (past days data used for training). \n",
        "\n",
        "#Empty lists to be populated using formatted training data\n",
        "trainX = []\n",
        "trainY = []\n",
        "\n",
        "n_future = 1   # Number of days we want to look into the future based on the past days.\n",
        "n_past = 14  # Number of past days we want to use to predict the future.\n",
        "\n",
        "#Reformat input data into a shape: (n_samples x timesteps x n_features)\n",
        "#In my example, my df_for_training_scaled has a shape (1247, 5)\n",
        "#1247 refers to the number of data points and 5 refers to the columns (multi-variables).\n",
        "for i in range(n_past, len(df_for_training_scaled) - n_future +1):\n",
        "    trainX.append(df_for_training_scaled[i - n_past:i, 0:df_for_training.shape[1]])\n",
        "    trainY.append(df_for_training_scaled[i + n_future - 1:i + n_future, 0])\n",
        "\n",
        "trainX, trainY = np.array(trainX), np.array(trainY)\n",
        "\n",
        "print('trainX shape == {}.'.format(trainX.shape))\n",
        "print('trainY shape == {}.'.format(trainY.shape))"
      ]
    },
    {
      "cell_type": "code",
      "execution_count": 38,
      "metadata": {
        "colab": {
          "base_uri": "https://localhost:8080/"
        },
        "id": "a778Y8DeqKgG",
        "outputId": "6f2e6aef-b5b8-4cea-a385-a036f1e1b3a9"
      },
      "outputs": [
        {
          "name": "stdout",
          "output_type": "stream",
          "text": [
            "Model: \"sequential_1\"\n",
            "_________________________________________________________________\n",
            " Layer (type)                Output Shape              Param #   \n",
            "=================================================================\n",
            " lstm_2 (LSTM)               (None, 14, 48)            10368     \n",
            "                                                                 \n",
            " lstm_3 (LSTM)               (None, 48)                18624     \n",
            "                                                                 \n",
            " dropout_1 (Dropout)         (None, 48)                0         \n",
            "                                                                 \n",
            " dense_1 (Dense)             (None, 1)                 49        \n",
            "                                                                 \n",
            "=================================================================\n",
            "Total params: 29,041\n",
            "Trainable params: 29,041\n",
            "Non-trainable params: 0\n",
            "_________________________________________________________________\n"
          ]
        }
      ],
      "source": [
        "# define the model \n",
        "\n",
        "model = Sequential()\n",
        "model.add(LSTM(48, activation='relu', input_shape=(trainX.shape[1], trainX.shape[2]), return_sequences=True))\n",
        "model.add(LSTM(48, activation='relu', return_sequences=False))\n",
        "model.add(Dropout(0.2))\n",
        "model.add(Dense(trainY.shape[1]))\n",
        "\n",
        "model.compile(optimizer='adam', loss='mse')\n",
        "model.summary()"
      ]
    },
    {
      "cell_type": "code",
      "execution_count": 39,
      "metadata": {
        "colab": {
          "base_uri": "https://localhost:8080/",
          "height": 1000
        },
        "id": "BM2mdKXxqcu8",
        "outputId": "f5c88583-db75-4cec-97d3-e0f763ad6c2d"
      },
      "outputs": [
        {
          "name": "stdout",
          "output_type": "stream",
          "text": [
            "Epoch 1/30\n",
            "71/71 [==============================] - 4s 21ms/step - loss: 0.1405 - val_loss: 0.7457\n",
            "Epoch 2/30\n",
            "71/71 [==============================] - 1s 15ms/step - loss: 0.0239 - val_loss: 0.1580\n",
            "Epoch 3/30\n",
            "71/71 [==============================] - 1s 15ms/step - loss: 0.0207 - val_loss: 0.0842\n",
            "Epoch 4/30\n",
            "71/71 [==============================] - 1s 15ms/step - loss: 0.0203 - val_loss: 0.0580\n",
            "Epoch 5/30\n",
            "71/71 [==============================] - 1s 15ms/step - loss: 0.0215 - val_loss: 0.0863\n",
            "Epoch 6/30\n",
            "71/71 [==============================] - 1s 15ms/step - loss: 0.0195 - val_loss: 0.2233\n",
            "Epoch 7/30\n",
            "71/71 [==============================] - 1s 16ms/step - loss: 0.0199 - val_loss: 0.2942\n",
            "Epoch 8/30\n",
            "71/71 [==============================] - 1s 15ms/step - loss: 0.0184 - val_loss: 0.1231\n",
            "Epoch 9/30\n",
            "71/71 [==============================] - 1s 15ms/step - loss: 0.0186 - val_loss: 0.2305\n",
            "Epoch 10/30\n",
            "71/71 [==============================] - 1s 15ms/step - loss: 0.0180 - val_loss: 0.0319\n",
            "Epoch 11/30\n",
            "71/71 [==============================] - 1s 15ms/step - loss: 0.0158 - val_loss: 0.1482\n",
            "Epoch 12/30\n",
            "71/71 [==============================] - 1s 15ms/step - loss: 0.0157 - val_loss: 0.1238\n",
            "Epoch 13/30\n",
            "71/71 [==============================] - 1s 15ms/step - loss: 0.0155 - val_loss: 0.1468\n",
            "Epoch 14/30\n",
            "71/71 [==============================] - 1s 15ms/step - loss: 0.0160 - val_loss: 0.1478\n",
            "Epoch 15/30\n",
            "71/71 [==============================] - 1s 15ms/step - loss: 0.0150 - val_loss: 0.0396\n",
            "Epoch 16/30\n",
            "71/71 [==============================] - 1s 15ms/step - loss: 0.0150 - val_loss: 0.0628\n",
            "Epoch 17/30\n",
            "71/71 [==============================] - 1s 15ms/step - loss: 0.0152 - val_loss: 0.0287\n",
            "Epoch 18/30\n",
            "71/71 [==============================] - 1s 15ms/step - loss: 0.0143 - val_loss: 0.0715\n",
            "Epoch 19/30\n",
            "71/71 [==============================] - 1s 15ms/step - loss: 0.0141 - val_loss: 0.0847\n",
            "Epoch 20/30\n",
            "71/71 [==============================] - 1s 15ms/step - loss: 0.0134 - val_loss: 0.0338\n",
            "Epoch 21/30\n",
            "71/71 [==============================] - 1s 15ms/step - loss: 0.0131 - val_loss: 0.1137\n",
            "Epoch 22/30\n",
            "71/71 [==============================] - 1s 15ms/step - loss: 0.0146 - val_loss: 0.0145\n",
            "Epoch 23/30\n",
            "71/71 [==============================] - 1s 15ms/step - loss: 0.0139 - val_loss: 0.1323\n",
            "Epoch 24/30\n",
            "71/71 [==============================] - 1s 15ms/step - loss: 0.0148 - val_loss: 0.0643\n",
            "Epoch 25/30\n",
            "71/71 [==============================] - 1s 15ms/step - loss: 0.0125 - val_loss: 0.0219\n",
            "Epoch 26/30\n",
            "71/71 [==============================] - 1s 15ms/step - loss: 0.0123 - val_loss: 0.0306\n",
            "Epoch 27/30\n",
            "71/71 [==============================] - 1s 15ms/step - loss: 0.0122 - val_loss: 0.0298\n",
            "Epoch 28/30\n",
            "71/71 [==============================] - 1s 15ms/step - loss: 0.0146 - val_loss: 0.0422\n",
            "Epoch 29/30\n",
            "71/71 [==============================] - 1s 16ms/step - loss: 0.0135 - val_loss: 0.0209\n",
            "Epoch 30/30\n",
            "71/71 [==============================] - 1s 15ms/step - loss: 0.0121 - val_loss: 0.0582\n"
          ]
        },
        {
          "data": {
            "image/png": "[encoded data removed]",
            "text/plain": [
              "<Figure size 432x288 with 1 Axes>"
            ]
          },
          "metadata": {
            "needs_background": "light"
          },
          "output_type": "display_data"
        }
      ],
      "source": [
        "# fit the model\n",
        "history = model.fit(trainX, trainY, epochs=30, batch_size=16, validation_split=0.1, verbose=1)\n",
        "\n",
        "plt.plot(history.history['loss'], label='Training loss')\n",
        "plt.plot(history.history['val_loss'], label='Validation loss')\n",
        "plt.legend()\n",
        "\n",
        "#Predicting...\n",
        "#Libraries that will help us extract only business days in the US.\n",
        "#Otherwise our dates would be wrong when we look back (or forward).  \n",
        "from pandas.tseries.holiday import USFederalHolidayCalendar\n",
        "from pandas.tseries.offsets import CustomBusinessDay\n",
        "us_bd = CustomBusinessDay(calendar=USFederalHolidayCalendar())\n",
        "#Remember that we can only predict one day in future as our model needs 5 variables\n",
        "#as inputs for prediction. We only have all 5 variables until the last day in our dataset."
      ]
    },
    {
      "cell_type": "code",
      "execution_count": 40,
      "metadata": {
        "colab": {
          "base_uri": "https://localhost:8080/"
        },
        "id": "ev1VgEjprEjK",
        "outputId": "182afb5c-5402-4178-f81a-ce382092ac00"
      },
      "outputs": [
        {
          "name": "stdout",
          "output_type": "stream",
          "text": [
            "[Timestamp('2022-03-14 00:00:00', freq='C'), Timestamp('2022-03-15 00:00:00', freq='C'), Timestamp('2022-03-16 00:00:00', freq='C'), Timestamp('2022-03-17 00:00:00', freq='C'), Timestamp('2022-03-18 00:00:00', freq='C'), Timestamp('2022-03-21 00:00:00', freq='C'), Timestamp('2022-03-22 00:00:00', freq='C'), Timestamp('2022-03-23 00:00:00', freq='C'), Timestamp('2022-03-24 00:00:00', freq='C'), Timestamp('2022-03-25 00:00:00', freq='C'), Timestamp('2022-03-28 00:00:00', freq='C'), Timestamp('2022-03-29 00:00:00', freq='C'), Timestamp('2022-03-30 00:00:00', freq='C'), Timestamp('2022-03-31 00:00:00', freq='C'), Timestamp('2022-04-01 00:00:00', freq='C')]\n"
          ]
        }
      ],
      "source": [
        "n_past = 16\n",
        "n_days_for_prediction=15  #let us predict past 15 days\n",
        "\n",
        "predict_period_dates = pd.date_range(list(train_dates)[-n_past], periods=n_days_for_prediction, freq=us_bd).tolist()\n",
        "print(predict_period_dates)\n",
        "\n",
        "#Make prediction\n",
        "prediction = model.predict(trainX[-n_days_for_prediction:]) #shape = (n, 1) where n is the n_days_for_prediction\n",
        "\n",
        "#Perform inverse transformation to rescale back to original range\n",
        "#Since we used 5 variables for transform, the inverse expects same dimensions\n",
        "#Therefore, let us copy our values 5 times and discard them after inverse transform\n",
        "prediction_copies = np.repeat(prediction, df_for_training.shape[1], axis=-1)\n",
        "y_pred_future = scaler.inverse_transform(prediction_copies)[:,0]\n"
      ]
    },
    {
      "cell_type": "markdown",
      "metadata": {
        "id": "cyC2F2x-2iyD"
      },
      "source": [
        "Plotting Original Vs Forecatsed "
      ]
    },
    {
      "cell_type": "code",
      "execution_count": 49,
      "metadata": {
        "colab": {
          "base_uri": "https://localhost:8080/",
          "height": 490
        },
        "id": "OWn910lGrJH5",
        "outputId": "56b4ccca-c880-4910-dfdb-bc392b1e203d"
      },
      "outputs": [
        {
          "name": "stderr",
          "output_type": "stream",
          "text": [
            "/usr/local/lib/python3.7/dist-packages/ipykernel_launcher.py:11: SettingWithCopyWarning: \n",
            "A value is trying to be set on a copy of a slice from a DataFrame.\n",
            "Try using .loc[row_indexer,col_indexer] = value instead\n",
            "\n",
            "See the caveats in the documentation: https://pandas.pydata.org/pandas-docs/stable/user_guide/indexing.html#returning-a-view-versus-a-copy\n",
            "  # This is added back by InteractiveShellApp.init_path()\n",
            "/usr/local/lib/python3.7/dist-packages/seaborn/_decorators.py:43: FutureWarning: Pass the following variables as keyword args: x, y. From version 0.12, the only valid positional argument will be `data`, and passing other arguments without an explicit keyword will result in an error or misinterpretation.\n",
            "  FutureWarning\n",
            "/usr/local/lib/python3.7/dist-packages/seaborn/_decorators.py:43: FutureWarning: Pass the following variables as keyword args: x, y. From version 0.12, the only valid positional argument will be `data`, and passing other arguments without an explicit keyword will result in an error or misinterpretation.\n",
            "  FutureWarning\n"
          ]
        },
        {
          "data": {
            "text/plain": [
              "<matplotlib.axes._subplots.AxesSubplot at 0x7f9e1dd23850>"
            ]
          },
          "execution_count": 49,
          "metadata": {},
          "output_type": "execute_result"
        },
        {
          "data": {
            "image/png": "[encoded data removed]",
            "text/plain": [
              "<Figure size 432x288 with 1 Axes>"
            ]
          },
          "metadata": {
            "needs_background": "light"
          },
          "output_type": "display_data"
        }
      ],
      "source": [
        "# Convert timestamp to date\n",
        "forecast_dates = []\n",
        "for time_i in predict_period_dates:\n",
        "    forecast_dates.append(time_i.date())\n",
        "    \n",
        "df_forecast = pd.DataFrame({'Date':np.array(forecast_dates), 'Open':y_pred_future})\n",
        "df_forecast['Date']=pd.to_datetime(df_forecast['Date'])\n",
        "\n",
        "\n",
        "original = df[['Date', 'Open']]\n",
        "original['Date']=pd.to_datetime(original['Date'])\n",
        "original = original.loc[original['Date'] >= '2020-5-1']\n",
        "\n",
        "sns.lineplot(original['Date'], original['Open'],label=\"original\")\n",
        "sns.lineplot(df_forecast['Date'], df_forecast['Open'],label=\"forecasted\")\n",
        "\n"
      ]
    },
    {
      "cell_type": "code",
      "execution_count": null,
      "metadata": {
        "id": "q8t93Qo6rMHC"
      },
      "outputs": [],
      "source": []
    }
  ],
  "metadata": {
    "colab": {
      "name": "Stock_Prediction.ipynb",
      "provenance": []
    },
    "kernelspec": {
      "display_name": "Python 3",
      "name": "python3"
    },
    "language_info": {
      "name": "python"
    }
  },
  "nbformat": 4,
  "nbformat_minor": 0
}
